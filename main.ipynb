{
 "cells": [
  {
   "cell_type": "code",
   "execution_count": 1,
   "metadata": {},
   "outputs": [],
   "source": [
    "##Imports \n",
    "import sys\n",
    "import os.path\n",
    "import urllib.request\n",
    "from joblib import Parallel, delayed\n",
    "import tarfile\n",
    "from MNIST_sequence import MNIST_funcs\n",
    "import joblib\n",
    "from MNIST_sequence.MNIST_funcs import stream_normalise_mean_and_range as snmr\n",
    "from MNIST_sequence.MNIST_funcs import stream_normalise_mean_and_std as snms\n",
    "import esig\n"
   ]
  },
  {
   "attachments": {},
   "cell_type": "markdown",
   "metadata": {},
   "source": [
    "## Generating Sequential MNIST data"
   ]
  },
  {
   "attachments": {},
   "cell_type": "markdown",
   "metadata": {},
   "source": [
    "The aim here is to generate MNIST data using score based diffusion models\n",
    "The proposed steps to doing this are \n",
    "- Obtain signatures from MNIST dataset\n",
    "- Add noise to signatures\n",
    "- Train NN to denoise signatures to recover original signatures\n",
    "- Sample from random noise and denoise to obtain new MNIST data\n",
    "- Evaluate this data"
   ]
  },
  {
   "attachments": {},
   "cell_type": "markdown",
   "metadata": {},
   "source": [
    "## Step 1: Load in Data"
   ]
  },
  {
   "cell_type": "code",
   "execution_count": null,
   "metadata": {},
   "outputs": [],
   "source": [
    "##import sequence MNIST\n",
    "host_path = \"https://raw.githubusercontent.com/edwin-de-jong/mnist-digits-stroke-sequence-data/master/sequences.tar.gz\"\n",
    "seq_MNIST_path = \"seq_MNIST\" #local path to store the data\n",
    "\n",
    "def get_seq_MNIST(seq_MNIST_host_path = host_path, loc_path = seq_MNIST_path):\n",
    "    os.makedirs(seq_MNIST_path,exist_ok=True)\n",
    "    tgz_file = \"seq_MNIST.tgz\"\n",
    "    urllib.request.urlretrieve(host_path,tgz_file)\n",
    "    seq_MNIST_tgz = tarfile.open(tgz_file)\n",
    "    seq_MNIST_tgz.extractall(path=seq_MNIST_path)\n",
    "    seq_MNIST_tgz.close() \n",
    "\n",
    "get_seq_MNIST()"
   ]
  },
  {
   "attachments": {},
   "cell_type": "markdown",
   "metadata": {},
   "source": [
    "## Step 2: we extract the signatures"
   ]
  },
  {
   "cell_type": "code",
   "execution_count": null,
   "metadata": {},
   "outputs": [],
   "source": [
    "#Extract sequences\n",
    "N_CPU = joblib.cpu_count()\n",
    "train_points, train_inputs, train_targets = MNIST_funcs.mnist_train_data(seq_MNIST_path, N_CPU)\n",
    "test_points, test_inputs, test_targets = MNIST_funcs.mnist_test_data(seq_MNIST_path, N_CPU)"
   ]
  },
  {
   "attachments": {},
   "cell_type": "markdown",
   "metadata": {},
   "source": [
    "compute signatures"
   ]
  },
  {
   "cell_type": "code",
   "execution_count": null,
   "metadata": {},
   "outputs": [],
   "source": [
    "SIGNATURE_LEVEL = 8\n",
    "\n",
    "train_sigs_snmr = Parallel(n_jobs=N_CPU)([delayed(esig.stream2sig)(snmr(train_points[k]), SIGNATURE_LEVEL)\n",
    "                                          for k in range(len(train_points)) ])    \n",
    "test_sigs_snmr = Parallel(n_jobs=N_CPU)([delayed(esig.stream2sig)(snmr(test_points[k]), SIGNATURE_LEVEL)\n",
    "                                         for k in range(len(test_points)) ])\n",
    "    \n",
    "train_sigs_snms = Parallel(n_jobs=N_CPU)([ delayed(esig.stream2sig)(snms(train_points[k]), SIGNATURE_LEVEL)\n",
    "                                          for k in range(len(train_points)) ])    \n",
    "test_sigs_snms = Parallel(n_jobs=N_CPU)([ delayed(esig.stream2sig)(snms(test_points[k]), SIGNATURE_LEVEL)\n",
    "                                         for k in range(len(test_points)) ])"
   ]
  }
 ],
 "metadata": {
  "kernelspec": {
   "display_name": "gen_mnist",
   "language": "python",
   "name": "python3"
  },
  "language_info": {
   "codemirror_mode": {
    "name": "ipython",
    "version": 3
   },
   "file_extension": ".py",
   "mimetype": "text/x-python",
   "name": "python",
   "nbconvert_exporter": "python",
   "pygments_lexer": "ipython3",
   "version": "3.10.7"
  },
  "orig_nbformat": 4,
  "vscode": {
   "interpreter": {
    "hash": "9bbbe991c9bd91500b051874039cb145d8e079ded43e64b1f83f1276efa210c0"
   }
  }
 },
 "nbformat": 4,
 "nbformat_minor": 2
}
