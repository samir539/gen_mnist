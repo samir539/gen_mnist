{
 "cells": [
  {
   "cell_type": "code",
   "execution_count": 1,
   "metadata": {},
   "outputs": [],
   "source": [
    "##Imports \n",
    "import sys\n",
    "import os.path\n",
    "import urllib.request\n",
    "from joblib import Parallel, delayed\n",
    "import tarfile\n",
    "from MNIST_sequence import MNIST_funcs\n",
    "import joblib\n",
    "from MNIST_sequence.MNIST_funcs import stream_normalise_mean_and_range as snmr\n",
    "from MNIST_sequence.MNIST_funcs import stream_normalise_mean_and_std as snms\n",
    "import esig\n"
   ]
  },
  {
   "attachments": {},
   "cell_type": "markdown",
   "metadata": {},
   "source": [
    "## Generating Sequential MNIST data"
   ]
  },
  {
   "attachments": {},
   "cell_type": "markdown",
   "metadata": {},
   "source": [
    "The aim here is to generate MNIST data using score based diffusion models\n",
    "The proposed steps to doing this are \n",
    "- Obtain signatures from MNIST dataset\n",
    "- Add noise to signatures\n",
    "- Train NN to denoise signatures to recover original signatures\n",
    "- Sample from random noise and denoise to obtain new MNIST data\n",
    "- Evaluate this data"
   ]
  },
  {
   "attachments": {},
   "cell_type": "markdown",
   "metadata": {},
   "source": [
    "## Step 1 Load in Data"
   ]
  },
  {
   "cell_type": "code",
   "execution_count": null,
   "metadata": {},
   "outputs": [],
   "source": []
  }
 ],
 "metadata": {
  "kernelspec": {
   "display_name": "gen_mnist",
   "language": "python",
   "name": "python3"
  },
  "language_info": {
   "codemirror_mode": {
    "name": "ipython",
    "version": 3
   },
   "file_extension": ".py",
   "mimetype": "text/x-python",
   "name": "python",
   "nbconvert_exporter": "python",
   "pygments_lexer": "ipython3",
   "version": "3.10.7"
  },
  "orig_nbformat": 4,
  "vscode": {
   "interpreter": {
    "hash": "9bbbe991c9bd91500b051874039cb145d8e079ded43e64b1f83f1276efa210c0"
   }
  }
 },
 "nbformat": 4,
 "nbformat_minor": 2
}
